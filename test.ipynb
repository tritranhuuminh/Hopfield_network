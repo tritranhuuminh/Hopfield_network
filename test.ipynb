## Perceptron
### Theoretical background

One of the most important models still in use today is the so-called perceptron, whose potential is defined as the weighted sum of incoming signals. If this internal potential of the neuron exceeds its threshold value (defined in our case by the symbol $ϑ$), the neuron is excited to a value of $1$. Otherwise, the neuron is inhibited, which is represented by a value of $0$. Mathematically, this process can be expressed using the signum function in this way:
